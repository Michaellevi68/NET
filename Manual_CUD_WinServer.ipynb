{
 "cells": [
  {
   "cell_type": "code",
   "execution_count": null,
   "metadata": {},
   "outputs": [],
   "source": [
    "# A simple notebook to run the conversion manually"
   ]
  },
  {
   "cell_type": "markdown",
   "metadata": {},
   "source": [
    "## Load the object, setting the paths"
   ]
  },
  {
   "cell_type": "code",
   "execution_count": 1,
   "metadata": {
    "scrolled": true
   },
   "outputs": [],
   "source": [
    "from convertuploaddocument_WinServer import *\n",
    "\n",
    "path = 'D:\\\\raw\\\\'\n",
    "cud = convertuploaddocument(searchpath = path, # Change the search \n",
    "                            WexacH5Path = 'D:\\\\h5s\\\\', \n",
    "                            localarchivepath = path, # path if you want\n",
    "                            startfresh=True, cloudflag = \"None\", localcopyflag = False)"
   ]
  },
  {
   "cell_type": "markdown",
   "metadata": {},
   "source": [
    "## Scan the search path for new experiments (on the cloud)"
   ]
  },
  {
   "cell_type": "code",
   "execution_count": 2,
   "metadata": {},
   "outputs": [],
   "source": [
    "cud.scanforexperiments()"
   ]
  },
  {
   "cell_type": "markdown",
   "metadata": {},
   "source": [
    "## Check the name of the file for getting info about the experiment"
   ]
  },
  {
   "cell_type": "code",
   "execution_count": 3,
   "metadata": {},
   "outputs": [],
   "source": [
    "cud.parsefields(getvalchar=['=', '>'], nextfieldchar=[',', '_']) #fields are for example \"user = ND\" in filename"
   ]
  },
  {
   "cell_type": "markdown",
   "metadata": {},
   "source": [
    "## Convert the files to H5 and archive them to Wexac\n",
    "_This will take a couple seconds even if there are no files because it will compare the files in the h5 path to the raw msrs files in the searchpath to make sure all files have been processed_\n",
    "\n",
    "_It will also recreate the excel sheet_"
   ]
  },
  {
   "cell_type": "code",
   "execution_count": null,
   "metadata": {},
   "outputs": [],
   "source": [
    "cud.wexac_copy()\n",
    "# experiments = cud.createspreadsheet()\n",
    "# cud.field.to_excel(os.path.join(cud.WexacH5Path, 'experiments.xlsx'), index=False)"
   ]
  },
  {
   "cell_type": "markdown",
   "metadata": {},
   "source": [
    "## To see new files processed:"
   ]
  },
  {
   "cell_type": "code",
   "execution_count": null,
   "metadata": {},
   "outputs": [],
   "source": [
    "cud.field"
   ]
  },
  {
   "cell_type": "markdown",
   "metadata": {},
   "source": [
    "## To see previously completed conversions:"
   ]
  }
 ],
 "metadata": {
  "kernelspec": {
   "display_name": "Python 3",
   "language": "python",
   "name": "python3"
  },
  "language_info": {
   "codemirror_mode": {
    "name": "ipython",
    "version": 3
   },
   "file_extension": ".py",
   "mimetype": "text/x-python",
   "name": "python",
   "nbconvert_exporter": "python",
   "pygments_lexer": "ipython3",
   "version": "3.7.4"
  }
 },
 "nbformat": 4,
 "nbformat_minor": 2
}
