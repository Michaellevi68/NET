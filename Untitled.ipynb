{
 "cells": [
  {
   "cell_type": "code",
   "execution_count": 1,
   "metadata": {},
   "outputs": [
    {
     "name": "stderr",
     "output_type": "stream",
     "text": [
      "\u001b[33m10:38:49.775 [W] model:545            Unreferenced clusters found in templates (generally not a problem)\u001b[0m\n",
      "\u001b[33m10:38:50.041 [W] model:567            Unreferenced clusters found in spike_clusters (generally not a problem)\u001b[0m\n"
     ]
    }
   ],
   "source": [
    "!phy template-gui \"D:\\\\h5s\\449712bf1439c9ed819cde433ffc1bdd\\params.py\""
   ]
  },
  {
   "cell_type": "code",
   "execution_count": null,
   "metadata": {},
   "outputs": [],
   "source": []
  }
 ],
 "metadata": {
  "kernelspec": {
   "display_name": "Python 3",
   "language": "python",
   "name": "python3"
  },
  "language_info": {
   "codemirror_mode": {
    "name": "ipython",
    "version": 3
   },
   "file_extension": ".py",
   "mimetype": "text/x-python",
   "name": "python",
   "nbconvert_exporter": "python",
   "pygments_lexer": "ipython3",
   "version": "3.7.4"
  }
 },
 "nbformat": 4,
 "nbformat_minor": 2
}
